{
  "nbformat": 4,
  "nbformat_minor": 0,
  "metadata": {
    "colab": {
      "provenance": [],
      "authorship_tag": "ABX9TyMVAjEbvXij5GgcPKYkSkL5",
      "include_colab_link": true
    },
    "kernelspec": {
      "name": "python3",
      "display_name": "Python 3"
    },
    "language_info": {
      "name": "python"
    }
  },
  "cells": [
    {
      "cell_type": "markdown",
      "metadata": {
        "id": "view-in-github",
        "colab_type": "text"
      },
      "source": [
        "<a href=\"https://colab.research.google.com/github/Tilakmagar848/cti110/blob/main/Untitled1.ipynb\" target=\"_parent\"><img src=\"https://colab.research.google.com/assets/colab-badge.svg\" alt=\"Open In Colab\"/></a>"
      ]
    },
    {
      "cell_type": "code",
      "execution_count": 1,
      "metadata": {
        "colab": {
          "base_uri": "https://localhost:8080/"
        },
        "id": "x2TDSHoN_8Y7",
        "outputId": "9c790943-5db7-48de-df8f-fbf08619ba01"
      },
      "outputs": [
        {
          "output_type": "stream",
          "name": "stdout",
          "text": [
            "What is the radius of the circle? 8.75\n",
            "------------------------------------------------------------------------------\n",
            "\n",
            "The diameter of the circle is 17.5\n",
            "\n",
            "The circumference of the circle is 54.98\n",
            "\n",
            "The area of the circle is 240.528\n"
          ]
        }
      ],
      "source": [
        "# Tilman Siuthani\n",
        "# 02/12/2025\n",
        "# P2LAB1\n",
        "# Using imported libary, math, and f-string\n",
        "\n",
        "import math\n",
        "\n",
        "# Get Radius from user\n",
        "\n",
        "radius = float(input(\"What is the radius of the circle? \"))\n",
        "print(\"------------------------------------------------------------------------------\")\n",
        "print()\n",
        "\n",
        "# Caluclate diameter\n",
        "diameter = 2 * radius\n",
        "\n",
        "# Display diameter with one decimal place\n",
        "print(f\"The diameter of the circle is {diameter:.1f}\\n\")\n",
        "\n",
        "# Calulate the Circumference\n",
        "pi = math.pi\n",
        "Circumference = 2 * pi * radius\n",
        "print(f\"The circumference of the circle is {Circumference:.2f}\\n\")\n",
        "\n",
        "# Calulate the area\n",
        "area = pi * radius**2\n",
        "print (f\"The area of the circle is {area:.3f}\")"
      ]
    }
  ]
}