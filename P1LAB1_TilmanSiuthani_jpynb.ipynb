{
  "nbformat": 4,
  "nbformat_minor": 0,
  "metadata": {
    "colab": {
      "provenance": []
    },
    "kernelspec": {
      "name": "python3",
      "display_name": "Python 3"
    },
    "language_info": {
      "name": "python"
    }
  },
  "cells": [
    {
      "cell_type": "code",
      "execution_count": null,
      "metadata": {
        "colab": {
          "base_uri": "https://localhost:8080/"
        },
        "id": "ivAKW7ym8985",
        "outputId": "457502b0-0688-4c6d-fb4f-43b88bbd3e22"
      },
      "outputs": [
        {
          "output_type": "stream",
          "name": "stdout",
          "text": [
            "Enter your first name:Tilman\n",
            "Enter your last name:Siuthani\n",
            "Hello,  Tilman Siuthani! Welcome to CTI 🤷‍♂️🤷‍♂️🤷‍♂️🤷‍♂️🤷‍♂️\n"
          ]
        }
      ],
      "source": [
        "#Tilman Siuthani\n",
        "#02/05/2025\n",
        "#P1LAB1\n",
        "#Using input and print functions\n",
        "\n",
        "#Get info from User\n",
        "f_name = input (\"Enter your first name:\")\n",
        "l_name = input (\"Enter your last name:\")\n",
        "\n",
        "#Display greeting to user\n",
        "print(\"Hello, \", f_name, l_name + \"!\", \"Welcome to CTI 🤷‍♂️🤷‍♂️🤷‍♂️🤷‍♂️🤷‍♂️\")"
      ]
    }
  ]
}